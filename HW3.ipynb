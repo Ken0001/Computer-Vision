{
 "cells": [
  {
   "cell_type": "code",
   "execution_count": 8,
   "metadata": {},
   "outputs": [
    {
     "name": "stdout",
     "output_type": "stream",
     "text": "25\n"
    }
   ],
   "source": [
    "import cv2\n",
    "b = 10\n",
    "c = 5\n",
    "print(b+c+10)"
   ]
  },
  {
   "cell_type": "code",
   "execution_count": 113,
   "metadata": {},
   "outputs": [
    {
     "name": "stdout",
     "output_type": "stream",
     "text": "(227, 304, 4)\n"
    }
   ],
   "source": [
    "hat = cv2.imread(\"hat.png\", cv2.IMREAD_UNCHANGED)\n",
    "mustache = cv2.imread(\"lena.png\")\n",
    "mustache.shape\n",
    "print (hat.shape)\n",
    "mustache = cv2.cvtColor(mustache, cv2.COLOR_BGR2BGRA)"
   ]
  },
  {
   "cell_type": "code",
   "execution_count": 115,
   "metadata": {},
   "outputs": [],
   "source": [
    "r = cv2.addWeighted(hat,0.6, mustache[0:227, 0:304, :],1,-120)\n",
    "mustache[0:227, 0:304, :] = r\n",
    "# 顯示圖片\n",
    "cv2.imshow('My Image', mustache)\n",
    "\n",
    "# 按下任意鍵則關閉所有視窗\n",
    "cv2.waitKey(0)\n",
    "cv2.destroyAllWindows()"
   ]
  },
  {
   "cell_type": "code",
   "execution_count": 121,
   "metadata": {},
   "outputs": [],
   "source": [
    "img = cv2.imread(\"hat.png\", cv2.IMREAD_UNCHANGED)\n",
    "alpha_channel = img[:, :, 3]\n",
    "_, mask = cv2.threshold(alpha_channel, 254, 255, cv2.THRESH_BINARY)  # binarize mask\n",
    "color = img[:, :, :3]\n",
    "new_img = cv2.bitwise_not(cv2.bitwise_not(color, mask=mask))\n",
    "# 顯示圖片\n",
    "cv2.imshow('My Image1', new_img)\n",
    "cv2.imshow('My Image2', img)\n",
    "# 按下任意鍵則關閉所有視窗\n",
    "cv2.waitKey(0)\n",
    "cv2.destroyAllWindows()"
   ]
  },
  {
   "cell_type": "code",
   "execution_count": 10,
   "metadata": {},
   "outputs": [],
   "source": [
    "import cv2 as cv, numpy as np\n",
    "# Load two images\n",
    "img1 = cv.imread('lena.png') # 背景\n",
    "img2 = cv.imread('hat.png') # logo\n",
    "def getMask(img1, img2, h, w):\n",
    "    # I want to put logo on top-left corner, So I create a ROI\n",
    "    rows,cols,channels = img2.shape\n",
    "    roi = img1[100:rows+100, 60:cols+60]\n",
    "\n",
    "    # Now create a mask of logo and create its inverse mask also\n",
    "    img2gray = cv.cvtColor(img2,cv.COLOR_BGR2GRAY)\n",
    "    ret, mask = cv.threshold(img2gray, 254, 255, cv.THRESH_BINARY) # 這個254很重要\n",
    "    mask_inv = cv.bitwise_not(mask)\n",
    "\n",
    "    #cv.imshow('mask',mask_inv)\n",
    "    # Now black-out the area of logo in ROI\n",
    "    img1_bg = cv.bitwise_and(roi,roi,mask = mask) # 這裡是mask,我參考的博文寫反了,我改正了,費了不小勁\n",
    "\n",
    "    # Take only region of logo from logo image.\n",
    "    img2_fg = cv.bitwise_and(img2,img2,mask = mask_inv) # 這裡才是mask_inv\n",
    "\n",
    "    # Put logo in ROI and modify the main image\n",
    "    dst = cv.add(img1_bg,img2_fg)\n",
    "\n",
    "    return dst\n",
    "\n",
    "img1[100:rows+100, 60:cols+60] = getMask(img1, img2)\n",
    "\n",
    "cv.imshow('res',img1)\n",
    "cv.waitKey(0)\n",
    "cv.destroyAllWindows()"
   ]
  },
  {
   "cell_type": "code",
   "execution_count": null,
   "metadata": {},
   "outputs": [],
   "source": []
  }
 ],
 "metadata": {
  "kernelspec": {
   "display_name": "Python 3",
   "language": "python",
   "name": "python3"
  },
  "language_info": {
   "codemirror_mode": {
    "name": "ipython",
    "version": 3
   },
   "file_extension": ".py",
   "mimetype": "text/x-python",
   "name": "python",
   "nbconvert_exporter": "python",
   "pygments_lexer": "ipython3",
   "version": "3.7.4"
  }
 },
 "nbformat": 4,
 "nbformat_minor": 2
}